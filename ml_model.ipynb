{
 "cells": [
  {
   "cell_type": "markdown",
   "id": "a39ccbf4",
   "metadata": {},
   "source": [
    "# Machine Learning Model Implementation\n",
    "Example: Spam Email Detection using Scikit-learn"
   ]
  },
  {
   "cell_type": "code",
   "execution_count": null,
   "id": "1e6ef23a",
   "metadata": {},
   "outputs": [],
   "source": [
    "\n",
    "import pandas as pd\n",
    "from sklearn.model_selection import train_test_split\n",
    "from sklearn.feature_extraction.text import CountVectorizer\n",
    "from sklearn.naive_bayes import MultinomialNB\n",
    "from sklearn.metrics import accuracy_score, classification_report\n"
   ]
  },
  {
   "cell_type": "code",
   "execution_count": null,
   "id": "55317413",
   "metadata": {},
   "outputs": [],
   "source": [
    "\n",
    "# Sample dataset (emails and labels: 1 = spam, 0 = not spam)\n",
    "data = {\n",
    "    \"text\": [\n",
    "        \"Congratulations! You won a lottery worth $1,000,000. Claim now!\",\n",
    "        \"Reminder: Your appointment is scheduled for tomorrow at 10 AM.\",\n",
    "        \"Win free prizes!!! Click the link below to claim your reward.\",\n",
    "        \"Meeting at 3 PM with the sales team. Don’t be late.\",\n",
    "        \"Earn money from home easily by signing up today.\",\n",
    "        \"Can we reschedule our call to next week?\",\n",
    "    ],\n",
    "    \"label\": [1, 0, 1, 0, 1, 0]  # 1 = spam, 0 = not spam\n",
    "}\n",
    "\n",
    "# Load data into a DataFrame\n",
    "df = pd.DataFrame(data)\n",
    "df\n"
   ]
  },
  {
   "cell_type": "code",
   "execution_count": null,
   "id": "60cd1fd6",
   "metadata": {},
   "outputs": [],
   "source": [
    "\n",
    "# Features (text) and labels (target)\n",
    "X = df[\"text\"]\n",
    "y = df[\"label\"]\n",
    "\n",
    "# Convert text into numerical vectors\n",
    "vectorizer = CountVectorizer()\n",
    "X_vectorized = vectorizer.fit_transform(X)\n",
    "\n",
    "# Split dataset into training and testing\n",
    "X_train, X_test, y_train, y_test = train_test_split(\n",
    "    X_vectorized, y, test_size=0.3, random_state=42\n",
    ")\n"
   ]
  },
  {
   "cell_type": "code",
   "execution_count": null,
   "id": "cc5ffbee",
   "metadata": {},
   "outputs": [],
   "source": [
    "\n",
    "# Train model (Naive Bayes classifier)\n",
    "model = MultinomialNB()\n",
    "model.fit(X_train, y_train)\n"
   ]
  },
  {
   "cell_type": "code",
   "execution_count": null,
   "id": "add182b0",
   "metadata": {},
   "outputs": [],
   "source": [
    "\n",
    "# Predictions\n",
    "y_pred = model.predict(X_test)\n",
    "\n",
    "# Evaluation\n",
    "print(\"Accuracy:\", accuracy_score(y_test, y_pred))\n",
    "print(\"\\nClassification Report:\\n\", classification_report(y_test, y_pred))\n"
   ]
  }
 ],
 "metadata": {},
 "nbformat": 4,
 "nbformat_minor": 5
}